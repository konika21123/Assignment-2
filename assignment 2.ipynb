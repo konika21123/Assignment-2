{
 "cells": [
  {
   "cell_type": "code",
   "execution_count": 1,
   "id": "239533d5-ff48-4c1f-a0b8-b916531641c7",
   "metadata": {},
   "outputs": [],
   "source": [
    "# QUESTION 1 :\n",
    "# How do you comment code in python?What are the different types of comment?"
   ]
  },
  {
   "cell_type": "code",
   "execution_count": 2,
   "id": "df20b616-9066-4f2f-b85e-3d6584f8553e",
   "metadata": {},
   "outputs": [
    {
     "ename": "SyntaxError",
     "evalue": "invalid syntax (3645276342.py, line 10)",
     "output_type": "error",
     "traceback": [
      "\u001b[0;36m  Cell \u001b[0;32mIn[2], line 10\u001b[0;36m\u001b[0m\n\u001b[0;31m    '''comment''' syntax ,\u001b[0m\n\u001b[0m       ^\u001b[0m\n\u001b[0;31mSyntaxError\u001b[0m\u001b[0;31m:\u001b[0m invalid syntax\n"
     ]
    }
   ],
   "source": [
    "'''Ans: \n",
    "we can write additional comment code in python according to our convenience. We can write a single line comment as well as a multiple line comment.\n",
    "A single line comment start with # symbol ,\n",
    "syntax :  # comment\n",
    "for example:\n",
    "# this is my second assignment of pw master in data science course \n",
    "# subhanshu sir is my favourite teacher.\n",
    "for this we have shortcut key (ctrl+/)\n",
    "for multi-line comment or a paragraph type comments we used\n",
    "'''comment''' syntax ,\n",
    "for example i wrote my ans in this format'''"
   ]
  },
  {
   "cell_type": "code",
   "execution_count": 3,
   "id": "1912240e-2aff-47ac-971a-0def5b997f55",
   "metadata": {},
   "outputs": [],
   "source": [
    "# in above comment it shows error because , we used ''' two time in a comment .\n",
    "# once in the starting and ending and another  is in between to show syntax \n",
    "# In that case we used alternate rule : that if we used (''')inside the comment then we use (\"\"\")for starting and ending and vice versa.for example:"
   ]
  },
  {
   "cell_type": "code",
   "execution_count": 4,
   "id": "bbb5eb26-3a1f-41c8-b85d-bf95a3996826",
   "metadata": {},
   "outputs": [
    {
     "data": {
      "text/plain": [
       "\"Ans: \\nwe can write additional comment code in python according to our convenience. We can write a single line comment as well as a multiple line comment.\\nA single line comment start with # symbol ,\\nsyntax :  # comment\\nfor example:\\n# this is my second assignment of pw master in data science course \\n# subhanshu sir is my favourite teacher.\\nfor this we have shortcut key (ctrl+/)\\nfor multi-line comment or a paragraph type comments we used\\n'''comment''' syntax ,\\nfor example i wrote my ans in this format\""
      ]
     },
     "execution_count": 4,
     "metadata": {},
     "output_type": "execute_result"
    }
   ],
   "source": [
    "\"\"\"Ans: \n",
    "we can write additional comment code in python according to our convenience. We can write a single line comment as well as a multiple line comment.\n",
    "A single line comment start with # symbol ,\n",
    "syntax :  # comment\n",
    "for example:\n",
    "# this is my second assignment of pw master in data science course \n",
    "# subhanshu sir is my favourite teacher.\n",
    "for this we have shortcut key (ctrl+/)\n",
    "for multi-line comment or a paragraph type comments we used\n",
    "'''comment''' syntax ,\n",
    "for example i wrote my ans in this format\"\"\""
   ]
  },
  {
   "cell_type": "code",
   "execution_count": 5,
   "id": "c8bec1b3-9b5b-42d9-8cf3-6088d4fd886c",
   "metadata": {},
   "outputs": [],
   "source": [
    "# QUESTION 2\n",
    "\n",
    "# what are variables in python?How do  you declare and assign values to variable?"
   ]
  },
  {
   "cell_type": "code",
   "execution_count": 6,
   "id": "8b8ac884-538e-4310-86a9-368f9939b49d",
   "metadata": {},
   "outputs": [
    {
     "data": {
      "text/plain": [
       "'Ans:\\n    variables are used to store data.\\n    for example:'"
      ]
     },
     "execution_count": 6,
     "metadata": {},
     "output_type": "execute_result"
    }
   ],
   "source": [
    "'''Ans:\n",
    "    variables are used to store data.\n",
    "    for example:'''"
   ]
  },
  {
   "cell_type": "code",
   "execution_count": 7,
   "id": "2809efc6-bd46-4f08-8678-551babf5a00d",
   "metadata": {},
   "outputs": [],
   "source": [
    "a=45"
   ]
  },
  {
   "cell_type": "code",
   "execution_count": 8,
   "id": "95ec8cc1-dbba-455c-8bb8-24c548fa716b",
   "metadata": {},
   "outputs": [
    {
     "data": {
      "text/plain": [
       "45"
      ]
     },
     "execution_count": 8,
     "metadata": {},
     "output_type": "execute_result"
    }
   ],
   "source": [
    "a"
   ]
  },
  {
   "cell_type": "code",
   "execution_count": 9,
   "id": "1d0d85c4-0fce-4d0a-ac50-c201188bce98",
   "metadata": {},
   "outputs": [
    {
     "data": {
      "text/plain": [
       "\"in above example 'a' is variable which is used to store int data and allocate memory to store that data\""
      ]
     },
     "execution_count": 9,
     "metadata": {},
     "output_type": "execute_result"
    }
   ],
   "source": [
    "'''in above example 'a' is variable which is used to store int data and allocate memory to store that data'''"
   ]
  },
  {
   "cell_type": "code",
   "execution_count": 10,
   "id": "ceba181f-8c79-493c-857a-38221ce566dd",
   "metadata": {},
   "outputs": [],
   "source": [
    "# QUESTION 3\n",
    " # How do you convert one data type to another in python ?"
   ]
  },
  {
   "cell_type": "code",
   "execution_count": 11,
   "id": "c851d417-4da2-4e08-8fd8-f66ea0d0eaa6",
   "metadata": {},
   "outputs": [
    {
     "data": {
      "text/plain": [
       "'Ans:\\n     By type casting we change one data type to another'"
      ]
     },
     "execution_count": 11,
     "metadata": {},
     "output_type": "execute_result"
    }
   ],
   "source": [
    "'''Ans:\n",
    "     By type casting we change one data type to another'''"
   ]
  },
  {
   "cell_type": "code",
   "execution_count": 12,
   "id": "5d634282-4cd6-454b-9398-d3548911993a",
   "metadata": {},
   "outputs": [],
   "source": [
    "a=23"
   ]
  },
  {
   "cell_type": "code",
   "execution_count": 13,
   "id": "9b47d648-70f3-4ba7-b53e-d7dd500de601",
   "metadata": {},
   "outputs": [
    {
     "data": {
      "text/plain": [
       "int"
      ]
     },
     "execution_count": 13,
     "metadata": {},
     "output_type": "execute_result"
    }
   ],
   "source": [
    "type(a)"
   ]
  },
  {
   "cell_type": "code",
   "execution_count": 14,
   "id": "b214a620-6ef4-461c-8ee0-7ab6dfc22b18",
   "metadata": {},
   "outputs": [],
   "source": [
    "b=str(a)"
   ]
  },
  {
   "cell_type": "code",
   "execution_count": 15,
   "id": "40d9890d-203e-48f6-89ee-9ff9ef9b8799",
   "metadata": {},
   "outputs": [
    {
     "data": {
      "text/plain": [
       "str"
      ]
     },
     "execution_count": 15,
     "metadata": {},
     "output_type": "execute_result"
    }
   ],
   "source": [
    "type(b)"
   ]
  },
  {
   "cell_type": "code",
   "execution_count": 16,
   "id": "f5acf998-2289-49f3-ab5e-132b69c1cc88",
   "metadata": {},
   "outputs": [],
   "source": [
    "# QUESTION 4\n",
    "# How do you write and execute a python script from the command line?"
   ]
  },
  {
   "cell_type": "code",
   "execution_count": 17,
   "id": "f691ef1a-4694-45d1-90bf-51a868cade13",
   "metadata": {},
   "outputs": [
    {
     "data": {
      "text/plain": [
       "' Ans:\\nOpen a command line and type the word python followed by the path to your script file.'"
      ]
     },
     "execution_count": 17,
     "metadata": {},
     "output_type": "execute_result"
    }
   ],
   "source": [
    "''' Ans:\n",
    "Open a command line and type the word python followed by the path to your script file.'''"
   ]
  },
  {
   "cell_type": "code",
   "execution_count": 18,
   "id": "3a93c104-e8b0-4945-b22b-1fdde7b3ef7a",
   "metadata": {},
   "outputs": [],
   "source": [
    "# QUESTION 5\n",
    "# Given a list my_list=[1,2,3,4,5],write the code to slice the list and obtain the sub -list [2,3]"
   ]
  },
  {
   "cell_type": "code",
   "execution_count": 19,
   "id": "b5022742-7468-4e03-859f-568212d0e0b6",
   "metadata": {},
   "outputs": [],
   "source": [
    "l=[1,2,3,4,5]"
   ]
  },
  {
   "cell_type": "code",
   "execution_count": 20,
   "id": "55f6ac40-dd52-4af9-bf39-e0ff566bef79",
   "metadata": {},
   "outputs": [
    {
     "data": {
      "text/plain": [
       "[2, 3]"
      ]
     },
     "execution_count": 20,
     "metadata": {},
     "output_type": "execute_result"
    }
   ],
   "source": [
    "l[1:3]"
   ]
  },
  {
   "cell_type": "code",
   "execution_count": 21,
   "id": "0ec817e8-2044-4520-899b-875ce7afc7a5",
   "metadata": {},
   "outputs": [],
   "source": [
    "# QUESTION 6\n",
    "# What is a complex number in mathematics, and how is it represent in python?"
   ]
  },
  {
   "cell_type": "code",
   "execution_count": 22,
   "id": "fc5ca549-157d-4ec8-9f43-a19dfc7ee6dc",
   "metadata": {},
   "outputs": [
    {
     "data": {
      "text/plain": [
       "'Ans:\\n    Complex number is combination of real part and imaginary part ,represented as 3+4i in mathematics\\n    But in python complex number is represented as 3+4j'"
      ]
     },
     "execution_count": 22,
     "metadata": {},
     "output_type": "execute_result"
    }
   ],
   "source": [
    "'''Ans:\n",
    "    Complex number is combination of real part and imaginary part ,represented as 3+4i in mathematics\n",
    "    But in python complex number is represented as 3+4j'''"
   ]
  },
  {
   "cell_type": "code",
   "execution_count": 23,
   "id": "982b1899-856c-45dd-bb4f-8aa90cc8b0ab",
   "metadata": {},
   "outputs": [],
   "source": [
    "a=3+4j"
   ]
  },
  {
   "cell_type": "code",
   "execution_count": 24,
   "id": "ca11404c-d969-4294-b292-f6d355eca7f1",
   "metadata": {},
   "outputs": [
    {
     "data": {
      "text/plain": [
       "complex"
      ]
     },
     "execution_count": 24,
     "metadata": {},
     "output_type": "execute_result"
    }
   ],
   "source": [
    "type(a)"
   ]
  },
  {
   "cell_type": "code",
   "execution_count": 25,
   "id": "cbeec3e6-79e4-451d-ab2a-339656635d4b",
   "metadata": {},
   "outputs": [],
   "source": [
    "# QUESTION 7\n",
    "# What  is the correct way to declare a variable named age and assign the value 25 to it ?"
   ]
  },
  {
   "cell_type": "code",
   "execution_count": 26,
   "id": "bd27edfe-7c54-49ce-a85e-01683c70f30d",
   "metadata": {},
   "outputs": [],
   "source": [
    "age=25"
   ]
  },
  {
   "cell_type": "code",
   "execution_count": 27,
   "id": "df382f96-03b7-447b-850e-14a0ac2d0575",
   "metadata": {},
   "outputs": [],
   "source": [
    "# QUESTION 8\n",
    "# Declare a variable named price and assign the value 9.99 to it.What data type does this variable belong to?"
   ]
  },
  {
   "cell_type": "code",
   "execution_count": 28,
   "id": "4da3033c-ee7a-459e-a713-a2c574488354",
   "metadata": {},
   "outputs": [],
   "source": [
    "price=9.99"
   ]
  },
  {
   "cell_type": "code",
   "execution_count": 29,
   "id": "1f57ac1f-de37-463e-9dd8-1f63992d6de4",
   "metadata": {},
   "outputs": [
    {
     "data": {
      "text/plain": [
       "float"
      ]
     },
     "execution_count": 29,
     "metadata": {},
     "output_type": "execute_result"
    }
   ],
   "source": [
    "type(price)"
   ]
  },
  {
   "cell_type": "code",
   "execution_count": 30,
   "id": "3d47ec8f-9386-43f6-a2f6-5c6ac9438a6f",
   "metadata": {},
   "outputs": [],
   "source": [
    "# QUESTION 9\n",
    "# Create a variable named name and assign your full name to it as a string .How would you print the value of this variable"
   ]
  },
  {
   "cell_type": "code",
   "execution_count": 31,
   "id": "a1eeeb74-dad5-4639-bdfc-dfee3f2a5386",
   "metadata": {},
   "outputs": [
    {
     "name": "stdout",
     "output_type": "stream",
     "text": [
      "konika\n"
     ]
    }
   ],
   "source": [
    "name='konika'\n",
    "print(name)"
   ]
  },
  {
   "cell_type": "code",
   "execution_count": 32,
   "id": "78e77d5d-8071-427b-81be-ea412524c8ab",
   "metadata": {},
   "outputs": [],
   "source": [
    "#QUESTION 10\n",
    "# Given the string \"Hello , World!\",extract the substring \"World\"."
   ]
  },
  {
   "cell_type": "code",
   "execution_count": 33,
   "id": "30d916ca-64f2-4d82-9b35-470aa5f3e810",
   "metadata": {},
   "outputs": [],
   "source": [
    "a=\"Hello,World!\""
   ]
  },
  {
   "cell_type": "code",
   "execution_count": 34,
   "id": "a0c074b3-6968-4129-830e-22fc87b49f68",
   "metadata": {},
   "outputs": [
    {
     "data": {
      "text/plain": [
       "'World!'"
      ]
     },
     "execution_count": 34,
     "metadata": {},
     "output_type": "execute_result"
    }
   ],
   "source": [
    "a[6:12]"
   ]
  },
  {
   "cell_type": "code",
   "execution_count": 35,
   "id": "6353a52d-1144-4bdc-8e53-22ede43e7b8f",
   "metadata": {},
   "outputs": [],
   "source": [
    "# QUESTION 11\n",
    "# Create a variable named \"is_student\"and assign it a boolean value indicating whether you are currently a student or not ."
   ]
  },
  {
   "cell_type": "code",
   "execution_count": 36,
   "id": "a9b85125-2342-49ea-b922-ee00492247d1",
   "metadata": {},
   "outputs": [],
   "source": [
    "is_student =True"
   ]
  },
  {
   "cell_type": "code",
   "execution_count": null,
   "id": "4f3c219d-7b63-4554-b28d-b37f53f28948",
   "metadata": {},
   "outputs": [],
   "source": []
  }
 ],
 "metadata": {
  "kernelspec": {
   "display_name": "Python 3 (ipykernel)",
   "language": "python",
   "name": "python3"
  },
  "language_info": {
   "codemirror_mode": {
    "name": "ipython",
    "version": 3
   },
   "file_extension": ".py",
   "mimetype": "text/x-python",
   "name": "python",
   "nbconvert_exporter": "python",
   "pygments_lexer": "ipython3",
   "version": "3.10.8"
  }
 },
 "nbformat": 4,
 "nbformat_minor": 5
}
